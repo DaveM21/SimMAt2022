{
 "cells": [
  {
   "cell_type": "markdown",
   "metadata": {},
   "source": [
    "<img style=\"float: left;;\" src='Figures/iteso.jpg' width=\"100\" height=\"200\"/></a>\n",
    "\n",
    "# <center> <font color= #000047> Ajuste de curvas </font> </center>\n",
    "\n"
   ]
  },
  {
   "cell_type": "markdown",
   "metadata": {},
   "source": [
    "\n",
    "<img style=\"float: right; margin: 0px 0px 15px 15px;\" src=\"https://upload.wikimedia.org/wikipedia/commons/a/a8/Regression_pic_assymetrique.gif\" width=\"400px\" height=\"125px\" />\n",
    "\n",
    "> El **ajuste de curvas** es el proceso de construir una curva (función), que sea el mejor ajuste a una serie de puntos. Las curvas ajustadas pueden ser usadas como asistencia en la visualización de datos, para inferir valores de una función donde no hay datos disponibles, y para resumir la relación entre variables.\n",
    "\n",
    "**Referencia**:\n",
    "- https://en.wikipedia.org/wiki/Curve_fitting\n"
   ]
  },
  {
   "cell_type": "markdown",
   "metadata": {},
   "source": [
    "## 0. Introducción\n",
    "\n",
    "Consideremos un polinomio de grado uno:\n",
    "\n",
    "$$y = \\beta_1 x + \\beta_0.$$\n",
    "\n",
    "Esta es una **línea recta** que tiene pendiente $\\beta_1$. Sabemos que habrá una línea conectando dos puntos cualesquiera. Por tanto, *una ecuación polinómica de primer grado es un ajuste perfecto entre dos puntos*.\n",
    "\n",
    "Si consideramos ahora un polinomio de segundo grado,\n",
    "\n",
    "$$y = \\beta_2 x^2 + \\beta_1 x + \\beta_0,$$\n",
    "\n",
    "este se ajustará exactamente a tres puntos. Si aumentamos el grado de la función a la de un polinomio de tercer grado, obtenemos:\n",
    "\n",
    "$$y = \\beta_3 x^3 + \\beta_2 x^2 + \\beta_1 x + \\beta_0,$$\n",
    "\n",
    "que se ajustará a cuatro puntos.\n",
    "\n",
    "**Ejemplos**\n",
    "1. Encontrar la línea recta que pasa exactamente por los puntos $(0,1)$ y $(1,0)$.\n",
    "2. Encontrar la parábola que pasa exactamente por los puntos $(-1,1)$, $(0,0)$ y $(1,1)$.\n",
    "\n",
    "**Solución**\n",
    "1. Consideramos $y=\\beta_1 x + \\beta_0$. Evaluando en el punto $(0,1)$, obtenemos $\\beta_1(0) + \\beta_0 = 1$. Ahora, evaluando en el punto $(1,0)$, obtenemos $\\beta_1(1) + \\beta_0 = 0$. De esta manera,\n",
    "$$\\left[\\begin{array}{cc} 1 & 0 \\\\ 1 & 1\\end{array}\\right]\\left[\\begin{array}{c} \\beta_0 \\\\ \\beta_1\\end{array}\\right]=\\left[\\begin{array}{c} 1 \\\\ 0\\end{array}\\right].$$\n",
    "Resolviendo, $\\beta_0=-\\beta_1=1$."
   ]
  },
  {
   "cell_type": "code",
   "execution_count": 1,
   "metadata": {},
   "outputs": [],
   "source": [
    "# Importar numpy y el matplotlib.pyplot\n",
    "import numpy as np\n",
    "from matplotlib import pyplot as plt"
   ]
  },
  {
   "cell_type": "code",
   "execution_count": 2,
   "metadata": {},
   "outputs": [
    {
     "name": "stdout",
     "output_type": "stream",
     "text": [
      "Help on function solve in module numpy.linalg:\n",
      "\n",
      "solve(a, b)\n",
      "    Solve a linear matrix equation, or system of linear scalar equations.\n",
      "    \n",
      "    Computes the \"exact\" solution, `x`, of the well-determined, i.e., full\n",
      "    rank, linear matrix equation `ax = b`.\n",
      "    \n",
      "    Parameters\n",
      "    ----------\n",
      "    a : (..., M, M) array_like\n",
      "        Coefficient matrix.\n",
      "    b : {(..., M,), (..., M, K)}, array_like\n",
      "        Ordinate or \"dependent variable\" values.\n",
      "    \n",
      "    Returns\n",
      "    -------\n",
      "    x : {(..., M,), (..., M, K)} ndarray\n",
      "        Solution to the system a x = b.  Returned shape is identical to `b`.\n",
      "    \n",
      "    Raises\n",
      "    ------\n",
      "    LinAlgError\n",
      "        If `a` is singular or not square.\n",
      "    \n",
      "    See Also\n",
      "    --------\n",
      "    scipy.linalg.solve : Similar function in SciPy.\n",
      "    \n",
      "    Notes\n",
      "    -----\n",
      "    \n",
      "    .. versionadded:: 1.8.0\n",
      "    \n",
      "    Broadcasting rules apply, see the `numpy.linalg` documentation for\n",
      "    details.\n",
      "    \n",
      "    The solutions are computed using LAPACK routine ``_gesv``.\n",
      "    \n",
      "    `a` must be square and of full-rank, i.e., all rows (or, equivalently,\n",
      "    columns) must be linearly independent; if either is not true, use\n",
      "    `lstsq` for the least-squares best \"solution\" of the\n",
      "    system/equation.\n",
      "    \n",
      "    References\n",
      "    ----------\n",
      "    .. [1] G. Strang, *Linear Algebra and Its Applications*, 2nd Ed., Orlando,\n",
      "           FL, Academic Press, Inc., 1980, pg. 22.\n",
      "    \n",
      "    Examples\n",
      "    --------\n",
      "    Solve the system of equations ``3 * x0 + x1 = 9`` and ``x0 + 2 * x1 = 8``:\n",
      "    \n",
      "    >>> a = np.array([[3,1], [1,2]])\n",
      "    >>> b = np.array([9,8])\n",
      "    >>> x = np.linalg.solve(a, b)\n",
      "    >>> x\n",
      "    array([2.,  3.])\n",
      "    \n",
      "    Check that the solution is correct:\n",
      "    \n",
      "    >>> np.allclose(np.dot(a, x), b)\n",
      "    True\n",
      "\n"
     ]
    }
   ],
   "source": [
    "help(np.linalg.solve)"
   ]
  },
  {
   "cell_type": "code",
   "execution_count": 3,
   "metadata": {},
   "outputs": [],
   "source": [
    "# Encontrar beta_0 y beta_1 resolviendo el sistema\n",
    "A=np.array([[0,1],[1,1]])\n",
    "b=np.array([1,0])"
   ]
  },
  {
   "cell_type": "code",
   "execution_count": 4,
   "metadata": {},
   "outputs": [],
   "source": [
    "# beta = A^-1 * b\n",
    "A_inv = np.linalg.inv(A)"
   ]
  },
  {
   "cell_type": "code",
   "execution_count": 5,
   "metadata": {},
   "outputs": [
    {
     "data": {
      "text/plain": [
       "array([-1.,  1.])"
      ]
     },
     "execution_count": 5,
     "metadata": {},
     "output_type": "execute_result"
    }
   ],
   "source": [
    "beta = A_inv.dot(b)\n",
    "beta"
   ]
  },
  {
   "cell_type": "code",
   "execution_count": 6,
   "metadata": {},
   "outputs": [
    {
     "data": {
      "text/plain": [
       "-1.0"
      ]
     },
     "execution_count": 6,
     "metadata": {},
     "output_type": "execute_result"
    }
   ],
   "source": [
    "beta[0]\n"
   ]
  },
  {
   "cell_type": "code",
   "execution_count": 7,
   "metadata": {},
   "outputs": [
    {
     "data": {
      "image/png": "[encoded data removed]",
      "text/plain": [
       "<Figure size 432x288 with 1 Axes>"
      ]
     },
     "metadata": {
      "needs_background": "light"
     },
     "output_type": "display_data"
    }
   ],
   "source": [
    "# Graficar la recta encontrada junto con los puntos\n",
    "plt.figure(figsize=(6,4))\n",
    "plt.plot(0,1,'ro', ms=10, label='$(0,1)$')\n",
    "plt.plot(1,0,'ro', ms=10, label='$(1,0)$')\n",
    "x_num=np.linspace(-1,2)\n",
    "\n",
    "y_num = beta[0]*x_num + beta[1]\n",
    "\n",
    "plt.plot(x_num, y_num, 'b', lw=3, label=f'$y=-x+1$')\n",
    "plt.xlabel('$x$')\n",
    "plt.ylabel('$y$')\n",
    "plt.grid()"
   ]
  },
  {
   "cell_type": "markdown",
   "metadata": {},
   "source": [
    "2. Consideramos $y=\\beta_2 x^2 + \\beta_1 x + \\beta_0$. Evaluando en el punto $(-1,1)$, obtenemos $\\beta_2(-1)^2 + \\beta_1(-1) + \\beta_0 = 1$. Ahora, evaluando en el punto $(0,0)$, obtenemos $\\beta_2(0)^2 + \\beta_1(0) + \\beta_0 = 0$. Finalmente, evaluando en el punto $(1,1)$, obtenemos $\\beta_2(1)^2 + \\beta_1(1) + \\beta_0 = 1$. De esta manera,\n",
    "$$\\left[\\begin{array}{ccc} 1 & -1 & 1 \\\\ 1 & 0 & 0 \\\\ 1 & 1 & 1 \\end{array}\\right]\\left[\\begin{array}{c} \\beta_0 \\\\ \\beta_1 \\\\ \\beta_2 \\end{array}\\right]=\\left[\\begin{array}{c} 1 \\\\ 0 \\\\ 1 \\end{array}\\right].$$\n",
    "Resolviendo, $\\beta_0=\\beta_1=0$ y $\\beta_2=1$."
   ]
  },
  {
   "cell_type": "code",
   "execution_count": 8,
   "metadata": {},
   "outputs": [],
   "source": [
    "# Encontrar beta_0, beta_1 y beta_2\n",
    "A=np.array([[1,-1,1],[1,0,0],[1,1,1]])\n",
    "b=np.array([1,0,1])\n"
   ]
  },
  {
   "cell_type": "code",
   "execution_count": 9,
   "metadata": {},
   "outputs": [
    {
     "data": {
      "text/plain": [
       "array([0., 0., 1.])"
      ]
     },
     "execution_count": 9,
     "metadata": {},
     "output_type": "execute_result"
    }
   ],
   "source": [
    "beta = np.linalg.solve(A, b)\n",
    "beta"
   ]
  },
  {
   "cell_type": "code",
   "execution_count": 10,
   "metadata": {},
   "outputs": [
    {
     "data": {
      "image/png": "[encoded data removed]",
      "text/plain": [
       "<Figure size 432x288 with 1 Axes>"
      ]
     },
     "metadata": {
      "needs_background": "light"
     },
     "output_type": "display_data"
    }
   ],
   "source": [
    "# Graficar la parabola junto con los puntos\n",
    "plt.figure(figsize=(6,4))\n",
    "plt.plot(-1,1,'ro', ms=10, label='$(-1,1)$')\n",
    "plt.plot(0,0,'ro', ms=10, label='$(0,0)$')\n",
    "plt.plot(1,1,'ro', ms=10, label='$(1,1)$')\n",
    "x_num=np.linspace(-2,2)\n",
    "\n",
    "y_num = beta[2]*x_num**2 + beta[1]*x_num + beta[0]\n",
    "\n",
    "plt.plot(x_num, y_num, 'b', lw=3, \n",
    "         label=f'$y=${beta[2]}$x^2$ + {beta[1]}$x$ + {beta[0]}')\n",
    "plt.xlabel('$x$')\n",
    "plt.ylabel('$y$')\n",
    "plt.grid()"
   ]
  },
  {
   "cell_type": "markdown",
   "metadata": {},
   "source": [
    "### ¿Qué tienen en común los anteriores problemas?\n",
    "Las curvas están completamente determinadas por los puntos (datos limpios, suficientes y necesarios).\n",
    "\n",
    "Esto se traduce en que, al llevar el problema a un sistema de ecuaciones lineales, existe una única solución: **no hay necesidad, ni se puede optimizar nada**.\n",
    "\n",
    "¿Tendremos datos así de '*bonitos*' en la vida real?\n",
    "\n",
    "La realidad es que los datos que encontraremos en nuestra vida profesional se parecen más a esto..."
   ]
  },
  {
   "cell_type": "code",
   "execution_count": 11,
   "metadata": {},
   "outputs": [],
   "source": [
    "# Crear un conjunto de puntos ruidosos a partir de una recta\n",
    "N=100\n",
    "x=np.linspace(0,10,N)\n",
    "y = 10 +2*x + np.random.normal(loc=0, scale=2, size=(N,))"
   ]
  },
  {
   "cell_type": "code",
   "execution_count": 12,
   "metadata": {},
   "outputs": [
    {
     "data": {
      "image/png": "[encoded data removed]",
      "text/plain": [
       "<Figure size 432x288 with 1 Axes>"
      ]
     },
     "metadata": {
      "needs_background": "light"
     },
     "output_type": "display_data"
    }
   ],
   "source": [
    "# Graficar\n",
    "plt.figure(figsize=(6,4))\n",
    "plt.plot(x,y,'xr', label='datos')\n",
    "plt.xlabel('x')\n",
    "plt.ylabel('y')\n",
    "plt.grid()"
   ]
  },
  {
   "cell_type": "markdown",
   "metadata": {},
   "source": [
    "### ¿Cómo ajustamos una curva a esto?"
   ]
  },
  {
   "cell_type": "markdown",
   "metadata": {},
   "source": [
    "## 1. Problema básico\n",
    "\n",
    "<img style=\"float: right; margin: 0px 0px 15px 15px;\" src=\"https://upload.wikimedia.org/wikipedia/commons/3/3a/Linear_regression.svg\" width=\"400px\" height=\"125px\" />\n",
    "\n",
    "Consideramos que tenemos un conjunto de n pares ordenados de datos $(x_i,y_i)$, para $i=1,2,3,\\dots,n$.\n",
    "\n",
    "### ¿Cuál es la recta que mejor se ajusta a estos datos?\n",
    "Consideramos entonces ajustes de la forma $\\hat{f}(x) = \\beta_0+\\beta_1 x = \\left[1 \\quad x\\right]\\left[\\begin{array}{c} \\beta_0 \\\\ \\beta_1 \\end{array}\\right]=\\left[1 \\quad x\\right]\\boldsymbol{\\beta}$ (lineas rectas).\n",
    "\n",
    "Para decir '*mejor*', tenemos que definir algún sentido en que una recta se ajuste *mejor* que otra.\n",
    "\n",
    "**Mínimos cuadrados**: el objetivo es seleccionar los coeficientes $\\boldsymbol{\\beta}=\\left[\\beta_0 \\quad \\beta_1 \\right]^T$, de forma que la función evaluada en los puntos $x_i$ ($\\hat{f}(x_i)$) aproxime los valores correspondientes $y_i$.\n",
    "\n",
    "La formulación por mínimos cuadrados, encuentra los $\\boldsymbol{\\beta}=\\left[\\beta_0 \\quad \\beta_1 \\right]^T$ que minimiza\n",
    "$$\\frac{1}{2n}\\sum_{i=1}^{n}(y_i-\\hat{f}(x_i))^2=\\frac{1}{2n}\\sum_{i=1}^{n}(y_i-(\\beta_0+ \\beta_1x_i))^2=\\frac{1}{2n}\\sum_{i=1}^{n}(y_i-\\left[1 \\quad x_i\\right]\\boldsymbol{\\beta})^2=\\frac{1}{2n}\\left|\\left|\\boldsymbol{y}-\\boldsymbol{X}\\boldsymbol{\\beta}\\right|\\right|^2,$$\n",
    "\n",
    "donde $\\boldsymbol{y}=\\left[y_1\\quad\\dots\\quad y_n\\right]^T$, y $\\boldsymbol{X}=\\left[\\begin{array}{ccc}1 & x_1\\\\ \\vdots & \\vdots \\\\ 1 & x_n\\end{array}\\right].$ Esto es,\n",
    "\n",
    "$$\\boldsymbol{\\beta}^{ls} = \\arg \\min_{\\boldsymbol{\\beta}} \\left|\\left|\\boldsymbol{y}-\\boldsymbol{X}\\boldsymbol{\\beta}\\right|\\right|^2$$"
   ]
  },
  {
   "cell_type": "markdown",
   "metadata": {},
   "source": [
    "Notar que el problema anterior no es de programación lineal, ¿porqué?\n",
    "\n",
    "Para llevar a cabo la anterior minimización, la librería `SciPy` en su módulo `optimize` contiene la función `minimize`."
   ]
  },
  {
   "cell_type": "code",
   "execution_count": 13,
   "metadata": {},
   "outputs": [],
   "source": [
    "# Importar el módulo optimize de la librería scipy\n",
    "from scipy import optimize as opt"
   ]
  },
  {
   "cell_type": "code",
   "execution_count": 14,
   "metadata": {},
   "outputs": [
    {
     "name": "stdout",
     "output_type": "stream",
     "text": [
      "Help on function minimize in module scipy.optimize._minimize:\n",
      "\n",
      "minimize(fun, x0, args=(), method=None, jac=None, hess=None, hessp=None, bounds=None, constraints=(), tol=None, callback=None, options=None)\n",
      "    Minimization of scalar function of one or more variables.\n",
      "    \n",
      "    Parameters\n",
      "    ----------\n",
      "    fun : callable\n",
      "        The objective function to be minimized.\n",
      "    \n",
      "            ``fun(x, *args) -> float``\n",
      "    \n",
      "        where ``x`` is an 1-D array with shape (n,) and ``args``\n",
      "        is a tuple of the fixed parameters needed to completely\n",
      "        specify the function.\n",
      "    x0 : ndarray, shape (n,)\n",
      "        Initial guess. Array of real elements of size (n,),\n",
      "        where 'n' is the number of independent variables.\n",
      "    args : tuple, optional\n",
      "        Extra arguments passed to the objective function and its\n",
      "        derivatives (`fun`, `jac` and `hess` functions).\n",
      "    method : str or callable, optional\n",
      "        Type of solver.  Should be one of\n",
      "    \n",
      "            - 'Nelder-Mead' :ref:`(see here) <optimize.minimize-neldermead>`\n",
      "            - 'Powell'      :ref:`(see here) <optimize.minimize-powell>`\n",
      "            - 'CG'          :ref:`(see here) <optimize.minimize-cg>`\n",
      "            - 'BFGS'        :ref:`(see here) <optimize.minimize-bfgs>`\n",
      "            - 'Newton-CG'   :ref:`(see here) <optimize.minimize-newtoncg>`\n",
      "            - 'L-BFGS-B'    :ref:`(see here) <optimize.minimize-lbfgsb>`\n",
      "            - 'TNC'         :ref:`(see here) <optimize.minimize-tnc>`\n",
      "            - 'COBYLA'      :ref:`(see here) <optimize.minimize-cobyla>`\n",
      "            - 'SLSQP'       :ref:`(see here) <optimize.minimize-slsqp>`\n",
      "            - 'trust-constr':ref:`(see here) <optimize.minimize-trustconstr>`\n",
      "            - 'dogleg'      :ref:`(see here) <optimize.minimize-dogleg>`\n",
      "            - 'trust-ncg'   :ref:`(see here) <optimize.minimize-trustncg>`\n",
      "            - 'trust-exact' :ref:`(see here) <optimize.minimize-trustexact>`\n",
      "            - 'trust-krylov' :ref:`(see here) <optimize.minimize-trustkrylov>`\n",
      "            - custom - a callable object (added in version 0.14.0),\n",
      "              see below for description.\n",
      "    \n",
      "        If not given, chosen to be one of ``BFGS``, ``L-BFGS-B``, ``SLSQP``,\n",
      "        depending if the problem has constraints or bounds.\n",
      "    jac : {callable,  '2-point', '3-point', 'cs', bool}, optional\n",
      "        Method for computing the gradient vector. Only for CG, BFGS,\n",
      "        Newton-CG, L-BFGS-B, TNC, SLSQP, dogleg, trust-ncg, trust-krylov,\n",
      "        trust-exact and trust-constr.\n",
      "        If it is a callable, it should be a function that returns the gradient\n",
      "        vector:\n",
      "    \n",
      "            ``jac(x, *args) -> array_like, shape (n,)``\n",
      "    \n",
      "        where ``x`` is an array with shape (n,) and ``args`` is a tuple with\n",
      "        the fixed parameters. If `jac` is a Boolean and is True, `fun` is\n",
      "        assumed to return and objective and gradient as and ``(f, g)`` tuple.\n",
      "        Methods 'Newton-CG', 'trust-ncg', 'dogleg', 'trust-exact', and\n",
      "        'trust-krylov' require that either a callable be supplied, or that\n",
      "        `fun` return the objective and gradient.\n",
      "        If None or False, the gradient will be estimated using 2-point finite\n",
      "        difference estimation with an absolute step size.\n",
      "        Alternatively, the keywords  {'2-point', '3-point', 'cs'} can be used\n",
      "        to select a finite difference scheme for numerical estimation of the\n",
      "        gradient with a relative step size. These finite difference schemes\n",
      "        obey any specified `bounds`.\n",
      "    hess : {callable, '2-point', '3-point', 'cs', HessianUpdateStrategy}, optional\n",
      "        Method for computing the Hessian matrix. Only for Newton-CG, dogleg,\n",
      "        trust-ncg,  trust-krylov, trust-exact and trust-constr. If it is\n",
      "        callable, it should return the  Hessian matrix:\n",
      "    \n",
      "            ``hess(x, *args) -> {LinearOperator, spmatrix, array}, (n, n)``\n",
      "    \n",
      "        where x is a (n,) ndarray and `args` is a tuple with the fixed\n",
      "        parameters. LinearOperator and sparse matrix returns are\n",
      "        allowed only for 'trust-constr' method. Alternatively, the keywords\n",
      "        {'2-point', '3-point', 'cs'} select a finite difference scheme\n",
      "        for numerical estimation. Or, objects implementing\n",
      "        `HessianUpdateStrategy` interface can be used to approximate\n",
      "        the Hessian. Available quasi-Newton methods implementing\n",
      "        this interface are:\n",
      "    \n",
      "            - `BFGS`;\n",
      "            - `SR1`.\n",
      "    \n",
      "        Whenever the gradient is estimated via finite-differences,\n",
      "        the Hessian cannot be estimated with options\n",
      "        {'2-point', '3-point', 'cs'} and needs to be\n",
      "        estimated using one of the quasi-Newton strategies.\n",
      "        Finite-difference options {'2-point', '3-point', 'cs'} and\n",
      "        `HessianUpdateStrategy` are available only for 'trust-constr' method.\n",
      "    hessp : callable, optional\n",
      "        Hessian of objective function times an arbitrary vector p. Only for\n",
      "        Newton-CG, trust-ncg, trust-krylov, trust-constr.\n",
      "        Only one of `hessp` or `hess` needs to be given.  If `hess` is\n",
      "        provided, then `hessp` will be ignored.  `hessp` must compute the\n",
      "        Hessian times an arbitrary vector:\n",
      "    \n",
      "            ``hessp(x, p, *args) ->  ndarray shape (n,)``\n",
      "    \n",
      "        where x is a (n,) ndarray, p is an arbitrary vector with\n",
      "        dimension (n,) and `args` is a tuple with the fixed\n",
      "        parameters.\n",
      "    bounds : sequence or `Bounds`, optional\n",
      "        Bounds on variables for L-BFGS-B, TNC, SLSQP, Powell, and\n",
      "        trust-constr methods. There are two ways to specify the bounds:\n",
      "    \n",
      "            1. Instance of `Bounds` class.\n",
      "            2. Sequence of ``(min, max)`` pairs for each element in `x`. None\n",
      "               is used to specify no bound.\n",
      "    \n",
      "    constraints : {Constraint, dict} or List of {Constraint, dict}, optional\n",
      "        Constraints definition (only for COBYLA, SLSQP and trust-constr).\n",
      "        Constraints for 'trust-constr' are defined as a single object or a\n",
      "        list of objects specifying constraints to the optimization problem.\n",
      "        Available constraints are:\n",
      "    \n",
      "            - `LinearConstraint`\n",
      "            - `NonlinearConstraint`\n",
      "    \n",
      "        Constraints for COBYLA, SLSQP are defined as a list of dictionaries.\n",
      "        Each dictionary with fields:\n",
      "    \n",
      "            type : str\n",
      "                Constraint type: 'eq' for equality, 'ineq' for inequality.\n",
      "            fun : callable\n",
      "                The function defining the constraint.\n",
      "            jac : callable, optional\n",
      "                The Jacobian of `fun` (only for SLSQP).\n",
      "            args : sequence, optional\n",
      "                Extra arguments to be passed to the function and Jacobian.\n",
      "    \n",
      "        Equality constraint means that the constraint function result is to\n",
      "        be zero whereas inequality means that it is to be non-negative.\n",
      "        Note that COBYLA only supports inequality constraints.\n",
      "    tol : float, optional\n",
      "        Tolerance for termination. For detailed control, use solver-specific\n",
      "        options.\n",
      "    options : dict, optional\n",
      "        A dictionary of solver options. All methods accept the following\n",
      "        generic options:\n",
      "    \n",
      "            maxiter : int\n",
      "                Maximum number of iterations to perform. Depending on the\n",
      "                method each iteration may use several function evaluations.\n",
      "            disp : bool\n",
      "                Set to True to print convergence messages.\n",
      "    \n",
      "        For method-specific options, see :func:`show_options()`.\n",
      "    callback : callable, optional\n",
      "        Called after each iteration. For 'trust-constr' it is a callable with\n",
      "        the signature:\n",
      "    \n",
      "            ``callback(xk, OptimizeResult state) -> bool``\n",
      "    \n",
      "        where ``xk`` is the current parameter vector. and ``state``\n",
      "        is an `OptimizeResult` object, with the same fields\n",
      "        as the ones from the return. If callback returns True\n",
      "        the algorithm execution is terminated.\n",
      "        For all the other methods, the signature is:\n",
      "    \n",
      "            ``callback(xk)``\n",
      "    \n",
      "        where ``xk`` is the current parameter vector.\n",
      "    \n",
      "    Returns\n",
      "    -------\n",
      "    res : OptimizeResult\n",
      "        The optimization result represented as a ``OptimizeResult`` object.\n",
      "        Important attributes are: ``x`` the solution array, ``success`` a\n",
      "        Boolean flag indicating if the optimizer exited successfully and\n",
      "        ``message`` which describes the cause of the termination. See\n",
      "        `OptimizeResult` for a description of other attributes.\n",
      "    \n",
      "    See also\n",
      "    --------\n",
      "    minimize_scalar : Interface to minimization algorithms for scalar\n",
      "        univariate functions\n",
      "    show_options : Additional options accepted by the solvers\n",
      "    \n",
      "    Notes\n",
      "    -----\n",
      "    This section describes the available solvers that can be selected by the\n",
      "    'method' parameter. The default method is *BFGS*.\n",
      "    \n",
      "    **Unconstrained minimization**\n",
      "    \n",
      "    Method :ref:`Nelder-Mead <optimize.minimize-neldermead>` uses the\n",
      "    Simplex algorithm [1]_, [2]_. This algorithm is robust in many\n",
      "    applications. However, if numerical computation of derivative can be\n",
      "    trusted, other algorithms using the first and/or second derivatives\n",
      "    information might be preferred for their better performance in\n",
      "    general.\n",
      "    \n",
      "    Method :ref:`CG <optimize.minimize-cg>` uses a nonlinear conjugate\n",
      "    gradient algorithm by Polak and Ribiere, a variant of the\n",
      "    Fletcher-Reeves method described in [5]_ pp.120-122. Only the\n",
      "    first derivatives are used.\n",
      "    \n",
      "    Method :ref:`BFGS <optimize.minimize-bfgs>` uses the quasi-Newton\n",
      "    method of Broyden, Fletcher, Goldfarb, and Shanno (BFGS) [5]_\n",
      "    pp. 136. It uses the first derivatives only. BFGS has proven good\n",
      "    performance even for non-smooth optimizations. This method also\n",
      "    returns an approximation of the Hessian inverse, stored as\n",
      "    `hess_inv` in the OptimizeResult object.\n",
      "    \n",
      "    Method :ref:`Newton-CG <optimize.minimize-newtoncg>` uses a\n",
      "    Newton-CG algorithm [5]_ pp. 168 (also known as the truncated\n",
      "    Newton method). It uses a CG method to the compute the search\n",
      "    direction. See also *TNC* method for a box-constrained\n",
      "    minimization with a similar algorithm. Suitable for large-scale\n",
      "    problems.\n",
      "    \n",
      "    Method :ref:`dogleg <optimize.minimize-dogleg>` uses the dog-leg\n",
      "    trust-region algorithm [5]_ for unconstrained minimization. This\n",
      "    algorithm requires the gradient and Hessian; furthermore the\n",
      "    Hessian is required to be positive definite.\n",
      "    \n",
      "    Method :ref:`trust-ncg <optimize.minimize-trustncg>` uses the\n",
      "    Newton conjugate gradient trust-region algorithm [5]_ for\n",
      "    unconstrained minimization. This algorithm requires the gradient\n",
      "    and either the Hessian or a function that computes the product of\n",
      "    the Hessian with a given vector. Suitable for large-scale problems.\n",
      "    \n",
      "    Method :ref:`trust-krylov <optimize.minimize-trustkrylov>` uses\n",
      "    the Newton GLTR trust-region algorithm [14]_, [15]_ for unconstrained\n",
      "    minimization. This algorithm requires the gradient\n",
      "    and either the Hessian or a function that computes the product of\n",
      "    the Hessian with a given vector. Suitable for large-scale problems.\n",
      "    On indefinite problems it requires usually less iterations than the\n",
      "    `trust-ncg` method and is recommended for medium and large-scale problems.\n",
      "    \n",
      "    Method :ref:`trust-exact <optimize.minimize-trustexact>`\n",
      "    is a trust-region method for unconstrained minimization in which\n",
      "    quadratic subproblems are solved almost exactly [13]_. This\n",
      "    algorithm requires the gradient and the Hessian (which is\n",
      "    *not* required to be positive definite). It is, in many\n",
      "    situations, the Newton method to converge in fewer iteraction\n",
      "    and the most recommended for small and medium-size problems.\n",
      "    \n",
      "    **Bound-Constrained minimization**\n",
      "    \n",
      "    Method :ref:`L-BFGS-B <optimize.minimize-lbfgsb>` uses the L-BFGS-B\n",
      "    algorithm [6]_, [7]_ for bound constrained minimization.\n",
      "    \n",
      "    Method :ref:`Powell <optimize.minimize-powell>` is a modification\n",
      "    of Powell's method [3]_, [4]_ which is a conjugate direction\n",
      "    method. It performs sequential one-dimensional minimizations along\n",
      "    each vector of the directions set (`direc` field in `options` and\n",
      "    `info`), which is updated at each iteration of the main\n",
      "    minimization loop. The function need not be differentiable, and no\n",
      "    derivatives are taken. If bounds are not provided, then an\n",
      "    unbounded line search will be used. If bounds are provided and\n",
      "    the initial guess is within the bounds, then every function\n",
      "    evaluation throughout the minimization procedure will be within\n",
      "    the bounds. If bounds are provided, the initial guess is outside\n",
      "    the bounds, and `direc` is full rank (default has full rank), then\n",
      "    some function evaluations during the first iteration may be\n",
      "    outside the bounds, but every function evaluation after the first\n",
      "    iteration will be within the bounds. If `direc` is not full rank,\n",
      "    then some parameters may not be optimized and the solution is not\n",
      "    guaranteed to be within the bounds.\n",
      "    \n",
      "    Method :ref:`TNC <optimize.minimize-tnc>` uses a truncated Newton\n",
      "    algorithm [5]_, [8]_ to minimize a function with variables subject\n",
      "    to bounds. This algorithm uses gradient information; it is also\n",
      "    called Newton Conjugate-Gradient. It differs from the *Newton-CG*\n",
      "    method described above as it wraps a C implementation and allows\n",
      "    each variable to be given upper and lower bounds.\n",
      "    \n",
      "    **Constrained Minimization**\n",
      "    \n",
      "    Method :ref:`COBYLA <optimize.minimize-cobyla>` uses the\n",
      "    Constrained Optimization BY Linear Approximation (COBYLA) method\n",
      "    [9]_, [10]_, [11]_. The algorithm is based on linear\n",
      "    approximations to the objective function and each constraint. The\n",
      "    method wraps a FORTRAN implementation of the algorithm. The\n",
      "    constraints functions 'fun' may return either a single number\n",
      "    or an array or list of numbers.\n",
      "    \n",
      "    Method :ref:`SLSQP <optimize.minimize-slsqp>` uses Sequential\n",
      "    Least SQuares Programming to minimize a function of several\n",
      "    variables with any combination of bounds, equality and inequality\n",
      "    constraints. The method wraps the SLSQP Optimization subroutine\n",
      "    originally implemented by Dieter Kraft [12]_. Note that the\n",
      "    wrapper handles infinite values in bounds by converting them into\n",
      "    large floating values.\n",
      "    \n",
      "    Method :ref:`trust-constr <optimize.minimize-trustconstr>` is a\n",
      "    trust-region algorithm for constrained optimization. It swiches\n",
      "    between two implementations depending on the problem definition.\n",
      "    It is the most versatile constrained minimization algorithm\n",
      "    implemented in SciPy and the most appropriate for large-scale problems.\n",
      "    For equality constrained problems it is an implementation of Byrd-Omojokun\n",
      "    Trust-Region SQP method described in [17]_ and in [5]_, p. 549. When\n",
      "    inequality constraints  are imposed as well, it swiches to the trust-region\n",
      "    interior point  method described in [16]_. This interior point algorithm,\n",
      "    in turn, solves inequality constraints by introducing slack variables\n",
      "    and solving a sequence of equality-constrained barrier problems\n",
      "    for progressively smaller values of the barrier parameter.\n",
      "    The previously described equality constrained SQP method is\n",
      "    used to solve the subproblems with increasing levels of accuracy\n",
      "    as the iterate gets closer to a solution.\n",
      "    \n",
      "    **Finite-Difference Options**\n",
      "    \n",
      "    For Method :ref:`trust-constr <optimize.minimize-trustconstr>`\n",
      "    the gradient and the Hessian may be approximated using\n",
      "    three finite-difference schemes: {'2-point', '3-point', 'cs'}.\n",
      "    The scheme 'cs' is, potentially, the most accurate but it\n",
      "    requires the function to correctly handles complex inputs and to\n",
      "    be differentiable in the complex plane. The scheme '3-point' is more\n",
      "    accurate than '2-point' but requires twice as many operations.\n",
      "    \n",
      "    **Custom minimizers**\n",
      "    \n",
      "    It may be useful to pass a custom minimization method, for example\n",
      "    when using a frontend to this method such as `scipy.optimize.basinhopping`\n",
      "    or a different library.  You can simply pass a callable as the ``method``\n",
      "    parameter.\n",
      "    \n",
      "    The callable is called as ``method(fun, x0, args, **kwargs, **options)``\n",
      "    where ``kwargs`` corresponds to any other parameters passed to `minimize`\n",
      "    (such as `callback`, `hess`, etc.), except the `options` dict, which has\n",
      "    its contents also passed as `method` parameters pair by pair.  Also, if\n",
      "    `jac` has been passed as a bool type, `jac` and `fun` are mangled so that\n",
      "    `fun` returns just the function values and `jac` is converted to a function\n",
      "    returning the Jacobian.  The method shall return an `OptimizeResult`\n",
      "    object.\n",
      "    \n",
      "    The provided `method` callable must be able to accept (and possibly ignore)\n",
      "    arbitrary parameters; the set of parameters accepted by `minimize` may\n",
      "    expand in future versions and then these parameters will be passed to\n",
      "    the method.  You can find an example in the scipy.optimize tutorial.\n",
      "    \n",
      "    .. versionadded:: 0.11.0\n",
      "    \n",
      "    References\n",
      "    ----------\n",
      "    .. [1] Nelder, J A, and R Mead. 1965. A Simplex Method for Function\n",
      "        Minimization. The Computer Journal 7: 308-13.\n",
      "    .. [2] Wright M H. 1996. Direct search methods: Once scorned, now\n",
      "        respectable, in Numerical Analysis 1995: Proceedings of the 1995\n",
      "        Dundee Biennial Conference in Numerical Analysis (Eds. D F\n",
      "        Griffiths and G A Watson). Addison Wesley Longman, Harlow, UK.\n",
      "        191-208.\n",
      "    .. [3] Powell, M J D. 1964. An efficient method for finding the minimum of\n",
      "       a function of several variables without calculating derivatives. The\n",
      "       Computer Journal 7: 155-162.\n",
      "    .. [4] Press W, S A Teukolsky, W T Vetterling and B P Flannery.\n",
      "       Numerical Recipes (any edition), Cambridge University Press.\n",
      "    .. [5] Nocedal, J, and S J Wright. 2006. Numerical Optimization.\n",
      "       Springer New York.\n",
      "    .. [6] Byrd, R H and P Lu and J. Nocedal. 1995. A Limited Memory\n",
      "       Algorithm for Bound Constrained Optimization. SIAM Journal on\n",
      "       Scientific and Statistical Computing 16 (5): 1190-1208.\n",
      "    .. [7] Zhu, C and R H Byrd and J Nocedal. 1997. L-BFGS-B: Algorithm\n",
      "       778: L-BFGS-B, FORTRAN routines for large scale bound constrained\n",
      "       optimization. ACM Transactions on Mathematical Software 23 (4):\n",
      "       550-560.\n",
      "    .. [8] Nash, S G. Newton-Type Minimization Via the Lanczos Method.\n",
      "       1984. SIAM Journal of Numerical Analysis 21: 770-778.\n",
      "    .. [9] Powell, M J D. A direct search optimization method that models\n",
      "       the objective and constraint functions by linear interpolation.\n",
      "       1994. Advances in Optimization and Numerical Analysis, eds. S. Gomez\n",
      "       and J-P Hennart, Kluwer Academic (Dordrecht), 51-67.\n",
      "    .. [10] Powell M J D. Direct search algorithms for optimization\n",
      "       calculations. 1998. Acta Numerica 7: 287-336.\n",
      "    .. [11] Powell M J D. A view of algorithms for optimization without\n",
      "       derivatives. 2007.Cambridge University Technical Report DAMTP\n",
      "       2007/NA03\n",
      "    .. [12] Kraft, D. A software package for sequential quadratic\n",
      "       programming. 1988. Tech. Rep. DFVLR-FB 88-28, DLR German Aerospace\n",
      "       Center -- Institute for Flight Mechanics, Koln, Germany.\n",
      "    .. [13] Conn, A. R., Gould, N. I., and Toint, P. L.\n",
      "       Trust region methods. 2000. Siam. pp. 169-200.\n",
      "    .. [14] F. Lenders, C. Kirches, A. Potschka: \"trlib: A vector-free\n",
      "       implementation of the GLTR method for iterative solution of\n",
      "       the trust region problem\", https://arxiv.org/abs/1611.04718\n",
      "    .. [15] N. Gould, S. Lucidi, M. Roma, P. Toint: \"Solving the\n",
      "       Trust-Region Subproblem using the Lanczos Method\",\n",
      "       SIAM J. Optim., 9(2), 504--525, (1999).\n",
      "    .. [16] Byrd, Richard H., Mary E. Hribar, and Jorge Nocedal. 1999.\n",
      "        An interior point algorithm for large-scale nonlinear  programming.\n",
      "        SIAM Journal on Optimization 9.4: 877-900.\n",
      "    .. [17] Lalee, Marucha, Jorge Nocedal, and Todd Plantega. 1998. On the\n",
      "        implementation of an algorithm for large-scale equality constrained\n",
      "        optimization. SIAM Journal on Optimization 8.3: 682-706.\n",
      "    \n",
      "    Examples\n",
      "    --------\n",
      "    Let us consider the problem of minimizing the Rosenbrock function. This\n",
      "    function (and its respective derivatives) is implemented in `rosen`\n",
      "    (resp. `rosen_der`, `rosen_hess`) in the `scipy.optimize`.\n",
      "    \n",
      "    >>> from scipy.optimize import minimize, rosen, rosen_der\n",
      "    \n",
      "    A simple application of the *Nelder-Mead* method is:\n",
      "    \n",
      "    >>> x0 = [1.3, 0.7, 0.8, 1.9, 1.2]\n",
      "    >>> res = minimize(rosen, x0, method='Nelder-Mead', tol=1e-6)\n",
      "    >>> res.x\n",
      "    array([ 1.,  1.,  1.,  1.,  1.])\n",
      "    \n",
      "    Now using the *BFGS* algorithm, using the first derivative and a few\n",
      "    options:\n",
      "    \n",
      "    >>> res = minimize(rosen, x0, method='BFGS', jac=rosen_der,\n",
      "    ...                options={'gtol': 1e-6, 'disp': True})\n",
      "    Optimization terminated successfully.\n",
      "             Current function value: 0.000000\n",
      "             Iterations: 26\n",
      "             Function evaluations: 31\n",
      "             Gradient evaluations: 31\n",
      "    >>> res.x\n",
      "    array([ 1.,  1.,  1.,  1.,  1.])\n",
      "    >>> print(res.message)\n",
      "    Optimization terminated successfully.\n",
      "    >>> res.hess_inv\n",
      "    array([[ 0.00749589,  0.01255155,  0.02396251,  0.04750988,  0.09495377],  # may vary\n",
      "           [ 0.01255155,  0.02510441,  0.04794055,  0.09502834,  0.18996269],\n",
      "           [ 0.02396251,  0.04794055,  0.09631614,  0.19092151,  0.38165151],\n",
      "           [ 0.04750988,  0.09502834,  0.19092151,  0.38341252,  0.7664427 ],\n",
      "           [ 0.09495377,  0.18996269,  0.38165151,  0.7664427,   1.53713523]])\n",
      "    \n",
      "    \n",
      "    Next, consider a minimization problem with several constraints (namely\n",
      "    Example 16.4 from [5]_). The objective function is:\n",
      "    \n",
      "    >>> fun = lambda x: (x[0] - 1)**2 + (x[1] - 2.5)**2\n",
      "    \n",
      "    There are three constraints defined as:\n",
      "    \n",
      "    >>> cons = ({'type': 'ineq', 'fun': lambda x:  x[0] - 2 * x[1] + 2},\n",
      "    ...         {'type': 'ineq', 'fun': lambda x: -x[0] - 2 * x[1] + 6},\n",
      "    ...         {'type': 'ineq', 'fun': lambda x: -x[0] + 2 * x[1] + 2})\n",
      "    \n",
      "    And variables must be positive, hence the following bounds:\n",
      "    \n",
      "    >>> bnds = ((0, None), (0, None))\n",
      "    \n",
      "    The optimization problem is solved using the SLSQP method as:\n",
      "    \n",
      "    >>> res = minimize(fun, (2, 0), method='SLSQP', bounds=bnds,\n",
      "    ...                constraints=cons)\n",
      "    \n",
      "    It should converge to the theoretical solution (1.4 ,1.7).\n",
      "\n"
     ]
    }
   ],
   "source": [
    "# Función minimize\n",
    "help(opt.minimize)"
   ]
  },
  {
   "cell_type": "markdown",
   "metadata": {},
   "source": [
    "Parámetros importantes:\n",
    "- fun: función $f(x)$, se debe definir antes de llamar minimize, como `def f(x): ... return ...`\n",
    "- x0: valor inicial. En una función no lineal, en general, hay múltiples mínimos. Dependiendo de la semilla caerá en uno de esos mínimos. Se ingresa como $x0 = \\text{np.array}([x_{01},\\dots,x_{0n}])$.\n",
    "- bounds: como en linprog.\n",
    "- constraints: funciones que definen las restricciones $g_i(x)$ y $h_j(x)$. Se definen igual que $f(x)$ y se ingresan como {'ineq': g_i, 'eq': h_j}."
   ]
  },
  {
   "cell_type": "markdown",
   "metadata": {},
   "source": [
    "Primero debemos construir la función objetivo y la semilla inicial:"
   ]
  },
  {
   "cell_type": "code",
   "execution_count": 15,
   "metadata": {},
   "outputs": [],
   "source": [
    "# Definir funcion objetivo y punto inicial\n",
    "def min_sq(beta, x_points, y_points):\n",
    "    n = len(x_points)\n",
    "    recta = beta[0] + beta[1]*x_points\n",
    "    return (1/(2*n)) * ((y_points - recta)**2).sum()"
   ]
  },
  {
   "cell_type": "code",
   "execution_count": 16,
   "metadata": {},
   "outputs": [],
   "source": [
    "beta=[0,0]"
   ]
  },
  {
   "cell_type": "code",
   "execution_count": 17,
   "metadata": {},
   "outputs": [],
   "source": [
    "solucion = opt.minimize(fun=min_sq, x0=beta, args=(x,y))"
   ]
  },
  {
   "cell_type": "code",
   "execution_count": 18,
   "metadata": {},
   "outputs": [
    {
     "data": {
      "text/plain": [
       "      fun: 2.639567496650228\n",
       " hess_inv: array([[ 3.93631359, -0.58578919],\n",
       "       [-0.58578919,  0.1164538 ]])\n",
       "      jac: array([-2.08616257e-07, -2.08616257e-06])\n",
       "  message: 'Optimization terminated successfully.'\n",
       "     nfev: 30\n",
       "      nit: 9\n",
       "     njev: 10\n",
       "   status: 0\n",
       "  success: True\n",
       "        x: array([9.86844248, 2.07426537])"
      ]
     },
     "execution_count": 18,
     "metadata": {},
     "output_type": "execute_result"
    }
   ],
   "source": [
    "# Mostrar sol\n",
    "solucion"
   ]
  },
  {
   "cell_type": "code",
   "execution_count": 19,
   "metadata": {},
   "outputs": [
    {
     "data": {
      "text/plain": [
       "array([9.86844248, 2.07426537])"
      ]
     },
     "execution_count": 19,
     "metadata": {},
     "output_type": "execute_result"
    }
   ],
   "source": [
    "solucion.x"
   ]
  },
  {
   "cell_type": "markdown",
   "metadata": {},
   "source": [
    "¿Qué tan bien luce el ajuste?"
   ]
  },
  {
   "cell_type": "code",
   "execution_count": 20,
   "metadata": {},
   "outputs": [
    {
     "data": {
      "text/plain": [
       "array([9.86844248, 2.07426537])"
      ]
     },
     "execution_count": 20,
     "metadata": {},
     "output_type": "execute_result"
    }
   ],
   "source": [
    "# Coeficientes \\beta_0 y \\beta_1\n",
    "beta = solucion.x\n",
    "beta"
   ]
  },
  {
   "cell_type": "code",
   "execution_count": 21,
   "metadata": {},
   "outputs": [
    {
     "data": {
      "image/png": "[encoded data removed]",
      "text/plain": [
       "<Figure size 432x288 with 1 Axes>"
      ]
     },
     "metadata": {
      "needs_background": "light"
     },
     "output_type": "display_data"
    }
   ],
   "source": [
    "# Grafica de los puntos y la recta ajustada\n",
    "plt.figure(figsize=(6,4))\n",
    "plt.plot(x,y,'xr', label='datos')\n",
    "y_fit = beta[0] + beta[1]*x\n",
    "plt.plot(x, y_fit, 'b', lw=3, label=f'Recta ajustada: $y=${np.round(beta[0],2)} + {np.round(beta[1],2)}$x$')\n",
    "\n",
    "plt.xlabel('x')\n",
    "plt.ylabel('y')\n",
    "plt.legend(loc='best')\n",
    "plt.grid()"
   ]
  },
  {
   "cell_type": "markdown",
   "metadata": {},
   "source": [
    "Note que la pendiente es aproximadamente $2$ y el intercepto es aproximadamente $10$.\n",
    "\n",
    "La anterior idea se puede extender a ajuste polinomial..."
   ]
  },
  {
   "cell_type": "code",
   "execution_count": 22,
   "metadata": {},
   "outputs": [
    {
     "data": {
      "text/plain": [
       "2.639567496650228"
      ]
     },
     "execution_count": 22,
     "metadata": {},
     "output_type": "execute_result"
    }
   ],
   "source": [
    "min_sq(beta, x, y)"
   ]
  },
  {
   "cell_type": "markdown",
   "metadata": {},
   "source": [
    "## 2. Ajuste polinomial\n",
    "\n",
    "Ahora, considere el siguiente conjunto de datos..."
   ]
  },
  {
   "cell_type": "code",
   "execution_count": 23,
   "metadata": {},
   "outputs": [],
   "source": [
    "# Generamos 100 puntos ruidosos a partir de una senoidal\n",
    "N=100\n",
    "x = np.linspace(0,1,N)\n",
    "y = np.sin(2*np.pi*x) + np.random.normal(loc=0,scale=0.3, size=(N,))\n"
   ]
  },
  {
   "cell_type": "code",
   "execution_count": 24,
   "metadata": {},
   "outputs": [
    {
     "data": {
      "image/png": "[encoded data removed]",
      "text/plain": [
       "<Figure size 432x288 with 1 Axes>"
      ]
     },
     "metadata": {
      "needs_background": "light"
     },
     "output_type": "display_data"
    }
   ],
   "source": [
    "# Graficar\n",
    "plt.figure(figsize=(6,4))\n",
    "plt.plot(x,y,'xr', label='datos')\n",
    "plt.xlabel('x')\n",
    "plt.ylabel('y')\n",
    "plt.grid()"
   ]
  },
  {
   "cell_type": "code",
   "execution_count": 25,
   "metadata": {},
   "outputs": [],
   "source": [
    "# Definir funcion objetivo y punto inicial\n",
    "def min_sq_1(beta, x_points, y_points):\n",
    "    n = len(x_points)\n",
    "    # Modelo lineal\n",
    "    recta = beta[0] + beta[1]*x_points\n",
    "    return (1/(2*n)) * ((y_points - recta)**2).sum()"
   ]
  },
  {
   "cell_type": "code",
   "execution_count": 26,
   "metadata": {},
   "outputs": [],
   "source": [
    "beta_ini = [0,0]"
   ]
  },
  {
   "cell_type": "code",
   "execution_count": 27,
   "metadata": {},
   "outputs": [
    {
     "data": {
      "text/plain": [
       "      fun: 0.16168450279976096\n",
       " hess_inv: array([[ 3.8554827 , -5.73199901],\n",
       "       [-5.73199901, 11.50086596]])\n",
       "      jac: array([ 2.40281224e-07, -1.76951289e-07])\n",
       "  message: 'Optimization terminated successfully.'\n",
       "     nfev: 24\n",
       "      nit: 7\n",
       "     njev: 8\n",
       "   status: 0\n",
       "  success: True\n",
       "        x: array([ 0.77264037, -1.50704698])"
      ]
     },
     "execution_count": 27,
     "metadata": {},
     "output_type": "execute_result"
    }
   ],
   "source": [
    "solucion_1 = opt.minimize(fun=min_sq_1, x0=beta_ini, args=(x,y))\n",
    "solucion_1"
   ]
  },
  {
   "cell_type": "code",
   "execution_count": 28,
   "metadata": {},
   "outputs": [
    {
     "data": {
      "text/plain": [
       "array([ 0.77264037, -1.50704698])"
      ]
     },
     "execution_count": 28,
     "metadata": {},
     "output_type": "execute_result"
    }
   ],
   "source": [
    "beta_1=solucion_1.x\n",
    "beta_1"
   ]
  },
  {
   "cell_type": "code",
   "execution_count": 29,
   "metadata": {},
   "outputs": [
    {
     "data": {
      "image/png": "[encoded data removed]",
      "text/plain": [
       "<Figure size 432x288 with 1 Axes>"
      ]
     },
     "metadata": {
      "needs_background": "light"
     },
     "output_type": "display_data"
    }
   ],
   "source": [
    "# Grafica de los puntos y la recta ajustada\n",
    "plt.figure(figsize=(6,4))\n",
    "plt.plot(x,y,'xr', label='datos')\n",
    "y_fit = beta_1[0] + beta_1[1]*x\n",
    "plt.plot(x, y_fit, 'b', lw=3, label=f'Recta ajustada: $y=${np.round(beta_1[0],2)} + {np.round(beta_1[1],2)}$x$')\n",
    "\n",
    "plt.xlabel('x')\n",
    "plt.ylabel('y')\n",
    "plt.legend(loc='best')\n",
    "plt.grid()"
   ]
  },
  {
   "cell_type": "markdown",
   "metadata": {
    "collapsed": true
   },
   "source": [
    "### 2.1. ¿Se ajustará bien una recta?"
   ]
  },
  {
   "cell_type": "code",
   "execution_count": 30,
   "metadata": {},
   "outputs": [],
   "source": [
    "# Definir funcion objetivo y semilla\n",
    "def min_sq_2(beta, x_points, y_points):\n",
    "    n=len(x_points)\n",
    "    parabola = beta[0] + beta[1]*x_points + beta[2]*x_points**2\n",
    "    return (1/(2*n))*((y_points - parabola)**2).sum()\n",
    "\n",
    "beta_ini_2 = [0,0,0]"
   ]
  },
  {
   "cell_type": "code",
   "execution_count": 31,
   "metadata": {},
   "outputs": [
    {
     "data": {
      "text/plain": [
       "      fun: 0.1611223982004802\n",
       " hess_inv: array([[   7.81571771,  -30.43552999,   25.22135026],\n",
       "       [ -30.43552999,  163.94054199, -155.1971661 ],\n",
       "       [  25.22135026, -155.1971661 ,  157.66575117]])\n",
       "      jac: array([-9.57585871e-06, -9.73790884e-06, -6.12810254e-06])\n",
       "  message: 'Optimization terminated successfully.'\n",
       "     nfev: 68\n",
       "      nit: 15\n",
       "     njev: 17\n",
       "   status: 0\n",
       "  success: True\n",
       "        x: array([ 0.69995824, -1.06645266, -0.44064904])"
      ]
     },
     "execution_count": 31,
     "metadata": {},
     "output_type": "execute_result"
    }
   ],
   "source": [
    "# Resolver\n",
    "solucion_2 = opt.minimize(fun=min_sq_2, x0=beta_ini_2, args=(x,y))\n",
    "solucion_2"
   ]
  },
  {
   "cell_type": "markdown",
   "metadata": {},
   "source": [
    "**Veamos $\\beta$ para el ajuste con recta**"
   ]
  },
  {
   "cell_type": "code",
   "execution_count": 32,
   "metadata": {},
   "outputs": [
    {
     "data": {
      "text/plain": [
       "array([ 0.69995824, -1.06645266, -0.44064904])"
      ]
     },
     "execution_count": 32,
     "metadata": {},
     "output_type": "execute_result"
    }
   ],
   "source": [
    "beta_2 = solucion_2.x\n",
    "beta_2"
   ]
  },
  {
   "cell_type": "code",
   "execution_count": 33,
   "metadata": {},
   "outputs": [
    {
     "data": {
      "image/png": "[encoded data removed]",
      "text/plain": [
       "<Figure size 432x288 with 1 Axes>"
      ]
     },
     "metadata": {
      "needs_background": "light"
     },
     "output_type": "display_data"
    }
   ],
   "source": [
    "# Grafica de los puntos y la recta ajustada\n",
    "plt.figure(figsize=(6,4))\n",
    "plt.plot(x,y,'xr', label='datos')\n",
    "y_fit = beta_1[0] + beta_1[1]*x\n",
    "y_fit2 = beta_2[0] + beta_2[1]*x + beta_2[2]*x**2\n",
    "\n",
    "#Modelo lineal\n",
    "plt.plot(x, y_fit, 'b', lw=3, label=f'Recta ajustada: $y=${np.round(beta_1[0],2)} + {np.round(beta_1[1],2)}$x$')\n",
    "# Modelo de una parábola\n",
    "plt.plot(x, y_fit2, 'k', lw=3, label=f'Parabola ajustada: $y=${np.round(beta_2[0],2)} + {np.round(beta_2[1],2)}$x$ + {np.round(beta_2[2],2)}$x^2$')\n",
    "\n",
    "\n",
    "plt.xlabel('x')\n",
    "plt.ylabel('y')\n",
    "plt.legend(loc='best')\n",
    "plt.grid()\n"
   ]
  },
  {
   "cell_type": "markdown",
   "metadata": {
    "collapsed": true
   },
   "source": [
    "### 2.2. La recta no es buen ajuste... ¿Se ajustará bien una parabola?"
   ]
  },
  {
   "cell_type": "code",
   "execution_count": 34,
   "metadata": {},
   "outputs": [],
   "source": [
    "# Definir funcion objetivo y semilla\n"
   ]
  },
  {
   "cell_type": "code",
   "execution_count": 35,
   "metadata": {},
   "outputs": [],
   "source": [
    "# Resolver\n"
   ]
  },
  {
   "cell_type": "markdown",
   "metadata": {},
   "source": [
    "**Veamos $\\beta$ para el ajuste con parábola**"
   ]
  },
  {
   "cell_type": "code",
   "execution_count": 36,
   "metadata": {},
   "outputs": [],
   "source": [
    "# Mostrar coeficientes\n"
   ]
  },
  {
   "cell_type": "code",
   "execution_count": 37,
   "metadata": {},
   "outputs": [],
   "source": [
    "# Graficar recta y parabola ajustadas\n"
   ]
  },
  {
   "cell_type": "markdown",
   "metadata": {},
   "source": [
    "### 2.3. Tampoco. Quizá un polinomio cúbico..."
   ]
  },
  {
   "cell_type": "code",
   "execution_count": 38,
   "metadata": {},
   "outputs": [],
   "source": [
    "# Definir funcion objetivo y semilla\n",
    "def min_sq_3(beta, x_points, y_points):\n",
    "    n=len(x_points)\n",
    "    cubico = beta[0] + beta[1]*x_points + beta[2]*x_points**2 + beta[3]*x_points**3\n",
    "    \n",
    "    return (1/(2*n))*((y_points - cubico)**2).sum()\n",
    "\n",
    "bete_ini_3 = [0,0,0,0]"
   ]
  },
  {
   "cell_type": "code",
   "execution_count": 39,
   "metadata": {},
   "outputs": [
    {
     "data": {
      "text/plain": [
       "      fun: 0.05303350309615366\n",
       " hess_inv: array([[   14.42263866,  -109.20199914,   219.41814549,  -128.21969645],\n",
       "       [ -109.20199914,  1117.47324239, -2531.67740276,  1578.29846966],\n",
       "       [  219.41814549, -2531.67740276,  6106.24326414, -3958.78282163],\n",
       "       [ -128.21969645,  1578.29846966, -3958.78282163,  2636.5850776 ]])\n",
       "      jac: array([3.69176269e-06, 1.61025673e-06, 1.54599547e-06, 1.53528526e-06])\n",
       "  message: 'Optimization terminated successfully.'\n",
       "     nfev: 165\n",
       "      nit: 32\n",
       "     njev: 33\n",
       "   status: 0\n",
       "  success: True\n",
       "        x: array([ -0.4585872 ,  13.19523678, -36.27410525,  23.88879929])"
      ]
     },
     "execution_count": 39,
     "metadata": {},
     "output_type": "execute_result"
    }
   ],
   "source": [
    "solucion_3 = opt.minimize(fun=min_sq_3, x0=bete_ini_3, args=(x,y))\n",
    "solucion_3"
   ]
  },
  {
   "cell_type": "markdown",
   "metadata": {},
   "source": [
    "**Veamos $\\beta$ para el ajuste con cúbica**"
   ]
  },
  {
   "cell_type": "code",
   "execution_count": 40,
   "metadata": {},
   "outputs": [
    {
     "data": {
      "text/plain": [
       "array([ -0.4585872 ,  13.19523678, -36.27410525,  23.88879929])"
      ]
     },
     "execution_count": 40,
     "metadata": {},
     "output_type": "execute_result"
    }
   ],
   "source": [
    "# Mostrar coeficientes\n",
    "beta_3 = solucion_3.x\n",
    "beta_3"
   ]
  },
  {
   "cell_type": "code",
   "execution_count": 41,
   "metadata": {},
   "outputs": [
    {
     "data": {
      "image/png": "[encoded data removed]",
      "text/plain": [
       "<Figure size 432x288 with 1 Axes>"
      ]
     },
     "metadata": {
      "needs_background": "light"
     },
     "output_type": "display_data"
    }
   ],
   "source": [
    "# Graficar recta, parabola y cubica\n",
    "# Grafica de los puntos y la recta ajustada\n",
    "plt.figure(figsize=(6,4))\n",
    "plt.plot(x,y,'xr', label='datos')\n",
    "y_fit = beta_1[0] + beta_1[1]*x\n",
    "y_fit2 = beta_2[0] + beta_2[1]*x + beta_2[2]*x**2\n",
    "y_fit3 = beta_3[0] + beta_3[1]*x + beta_3[2]*x**2 + beta_3[3]*x**3\n",
    "\n",
    "#Modelo lineal\n",
    "plt.plot(x, y_fit, 'b', lw=3, label=f'Recta ajustada: $y=${np.round(beta_1[0],2)} + {np.round(beta_1[1],2)}$x$')\n",
    "# Modelo de una parábola\n",
    "plt.plot(x, y_fit2, 'k', lw=3, label=f'Parabola ajustada: $y=${np.round(beta_2[0],2)} + {np.round(beta_2[1],2)}$x$ + {np.round(beta_2[2],2)}$x^2$')\n",
    "# Modelo cúbico\n",
    "plt.plot(x, y_fit3, lw=3, label=f'Polinomio cúbico ajustado: $y=${np.round(beta_3[0],2)} + {np.round(beta_3[1],2)}$x$ + {np.round(beta_3[2],2)}$x^2$ + {np.round(beta_3[3],2)}$x^3$')\n",
    "\n",
    "plt.xlabel('x')\n",
    "plt.ylabel('y')\n",
    "plt.legend(loc='best')\n",
    "plt.grid()"
   ]
  },
  {
   "cell_type": "markdown",
   "metadata": {},
   "source": [
    "Mucho mejor. Entonces, ¿mientras más se suba el orden mejor la aproximación?\n",
    "\n",
    "### 2.4. Ajustemos un polinomio de grado 7..."
   ]
  },
  {
   "cell_type": "code",
   "execution_count": 42,
   "metadata": {},
   "outputs": [],
   "source": [
    "# Definimos funcion objetivo y semilla\n",
    "def min_sq_7(beta,x_points,y_points):\n",
    "    n=len(x_points)\n",
    "    poli_7 = np.array([beta[i]*x_points**i for i in range(8)]).sum(axis=0)\n",
    "    return (1/(2*n))*((y_points - poli_7)**2).sum()\n",
    "\n",
    "beta_ini_7 = np.zeros(8)"
   ]
  },
  {
   "cell_type": "code",
   "execution_count": 43,
   "metadata": {},
   "outputs": [
    {
     "data": {
      "text/plain": [
       "      fun: 0.05179024448894702\n",
       " hess_inv: array([[   15.2938833 ,  -123.52587983,   224.73724234,    10.66811562,\n",
       "         -127.32183191,  -119.79699362,   -14.85378326,   138.50920337],\n",
       "       [ -123.52587983,  1382.27911778, -2919.95956742,     9.37786173,\n",
       "         1806.15989206,  1625.10406811,   140.17486704, -1983.268415  ],\n",
       "       [  224.73724234, -2919.95956742,  6762.81861088,  -286.98384002,\n",
       "        -4461.85665355, -3885.8240766 ,  -210.45114774,  4966.28710653],\n",
       "       [   10.66811562,     9.37786173,  -286.98384002,   148.89434395,\n",
       "          332.76692517,   224.63442466,   -58.80517101,  -418.89955769],\n",
       "       [ -127.32183191,  1806.15989206, -4461.85665355,   332.76692517,\n",
       "         3096.76742236,  2627.25527866,    67.33106138, -3496.97332266],\n",
       "       [ -119.79699362,  1625.10406811, -3885.8240766 ,   224.63442466,\n",
       "         2627.25527866,  2260.88528898,    92.43271701, -2943.39211997],\n",
       "       [  -14.85378326,   140.17486704,  -210.45114774,   -58.80517101,\n",
       "           67.33106138,    92.43271701,    44.75502701,   -44.83985046],\n",
       "       [  138.50920337, -1983.268415  ,  4966.28710653,  -418.89955769,\n",
       "        -3496.97332266, -2943.39211997,   -44.83985046,  3977.8906176 ]])\n",
       "      jac: array([ 3.98373231e-06,  1.04773790e-06,  2.97976658e-06, -2.96533108e-06,\n",
       "       -6.22216612e-06,  3.79141420e-06,  8.29016790e-06, -6.26407564e-06])\n",
       "  message: 'Optimization terminated successfully.'\n",
       "     nfev: 387\n",
       "      nit: 42\n",
       "     njev: 43\n",
       "   status: 0\n",
       "  success: True\n",
       "        x: array([ -0.41235577,  11.39588211, -23.61764115,  -3.00990999,\n",
       "        11.22201435,  11.82254461,   3.09975741, -10.37898234])"
      ]
     },
     "execution_count": 43,
     "metadata": {},
     "output_type": "execute_result"
    }
   ],
   "source": [
    "# Resolvemos\n",
    "solucion_7 = opt.minimize(fun=min_sq_7, x0=beta_ini_7, args=(x,y))\n",
    "solucion_7"
   ]
  },
  {
   "cell_type": "markdown",
   "metadata": {},
   "source": [
    "**De nuevo, veamos $\\beta$**"
   ]
  },
  {
   "cell_type": "code",
   "execution_count": null,
   "metadata": {},
   "outputs": [],
   "source": []
  },
  {
   "cell_type": "code",
   "execution_count": null,
   "metadata": {},
   "outputs": [],
   "source": []
  },
  {
   "cell_type": "code",
   "execution_count": 44,
   "metadata": {},
   "outputs": [
    {
     "data": {
      "text/plain": [
       "array([ -0.41235577,  11.39588211, -23.61764115,  -3.00990999,\n",
       "        11.22201435,  11.82254461,   3.09975741, -10.37898234])"
      ]
     },
     "execution_count": 44,
     "metadata": {},
     "output_type": "execute_result"
    }
   ],
   "source": [
    "# Mostrar coeficientes\n",
    "beta_7=solucion_7.x\n",
    "beta_7"
   ]
  },
  {
   "cell_type": "markdown",
   "metadata": {},
   "source": [
    "**¡Cuidado! OVERFITTING...**\n",
    "\n",
    "Observar el tamaño de algunos coeficientes. Cuando los coeficientes son grandes, ¿qué pasa?"
   ]
  },
  {
   "cell_type": "code",
   "execution_count": 45,
   "metadata": {},
   "outputs": [
    {
     "data": {
      "image/png": "[encoded data removed]",
      "text/plain": [
       "<Figure size 432x288 with 1 Axes>"
      ]
     },
     "metadata": {
      "needs_background": "light"
     },
     "output_type": "display_data"
    }
   ],
   "source": [
    "# Grafica de ajustes\n",
    "# Grafica de los puntos y la recta ajustada\n",
    "plt.figure(figsize=(6,4))\n",
    "plt.plot(x,y,'xr', label='datos')\n",
    "y_fit = beta_1[0] + beta_1[1]*x\n",
    "y_fit2 = beta_2[0] + beta_2[1]*x + beta_2[2]*x**2\n",
    "y_fit3 = beta_3[0] + beta_3[1]*x + beta_3[2]*x**2 + beta_3[3]*x**3\n",
    "y_fit7 = beta_7[0] +  beta_7[1]*x + beta_7[2]*x**2 + beta_7[3]*x**3 + beta_7[4]*x**4 + beta_7[5]*x**5 + beta_7[6]*x**6 + beta_7[7]*x**7\n",
    "\n",
    "#Modelo lineal\n",
    "plt.plot(x, y_fit, 'b', lw=3, label=f'Recta ajustada: $y=${np.round(beta_1[0],2)} + {np.round(beta_1[1],2)}$x$')\n",
    "# Modelo de una parábola\n",
    "plt.plot(x, y_fit2, 'k', lw=3, label=f'Parabola ajustada: $y=${np.round(beta_2[0],2)} + {np.round(beta_2[1],2)}$x$ + {np.round(beta_2[2],2)}$x^2$')\n",
    "# Modelo cúbico\n",
    "plt.plot(x, y_fit3, lw=3, label=f'Polinomio cúbico ajustado: $y=${np.round(beta_3[0],2)} + {np.round(beta_3[1],2)}$x$ + {np.round(beta_3[2],2)}$x^2$ + {np.round(beta_3[3],2)}$x^3$')\n",
    "\n",
    "# Modelo polinomial de grado 7\n",
    "plt.plot(x, y_fit7, lw=3, label=f'Polinomio de grado 7 ajustado: $y=${np.round(beta_7[0],2)} + {np.round(beta_7[1],2)}$x$ + {np.round(beta_7[2],2)}$x^2$ + {np.round(beta_7[3],2)}$x^3$ + {np.round(beta_7[4],2)}$x^4$ + {np.round(beta_7[5],2)}$x^5$ + {np.round(beta_7[6],2)}$x^6$ + {np.round(beta_7[7],2)}$x^7$')\n",
    "\n",
    "plt.xlabel('x')\n",
    "plt.ylabel('y')\n",
    "plt.legend(bbox_to_anchor=(1.05,1),loc='upper left')\n",
    "plt.grid()"
   ]
  },
  {
   "cell_type": "markdown",
   "metadata": {},
   "source": [
    "Es conveniente ver el error como función del orden del polinomio... **selección de modelos**"
   ]
  },
  {
   "cell_type": "code",
   "execution_count": 46,
   "metadata": {},
   "outputs": [],
   "source": [
    "# Función objetivo ajuste polinomio grado N\n",
    "def min_sq_N(beta, x_points, y_points, N):\n",
    "    n=len(x_points)\n",
    "    poli_N = np.array([beta[i]*x_points**i for i in range(N+1)]).sum(axis=0)\n",
    "    \n",
    "    return (1/(2*n))*((y_points - poli_N)**2).sum()"
   ]
  },
  {
   "cell_type": "code",
   "execution_count": null,
   "metadata": {},
   "outputs": [],
   "source": []
  },
  {
   "cell_type": "code",
   "execution_count": 47,
   "metadata": {},
   "outputs": [],
   "source": [
    "# Error cuadratico\n",
    "error = []\n",
    "for i in range(1,10):\n",
    "    beta_ini=np.zeros(i+1)\n",
    "    solucion = opt.minimize(fun=min_sq_N, x0=beta_ini, args=(x,y,i))\n",
    "    error.append(solucion.fun)\n",
    "    "
   ]
  },
  {
   "cell_type": "code",
   "execution_count": 48,
   "metadata": {},
   "outputs": [
    {
     "data": {
      "image/png": "[encoded data removed]",
      "text/plain": [
       "<Figure size 432x288 with 1 Axes>"
      ]
     },
     "metadata": {
      "needs_background": "light"
     },
     "output_type": "display_data"
    }
   ],
   "source": [
    "plt.figure(figsize=(6,4))\n",
    "plt.plot(range(1,10), error)\n",
    "plt.xlabel('Orden del polinomio ajustado')\n",
    "plt.ylabel('Error minimos cuadrados')\n",
    "plt.grid()"
   ]
  },
  {
   "cell_type": "markdown",
   "metadata": {},
   "source": [
    "En efecto, parece que con $3$ es suficiente."
   ]
  },
  {
   "cell_type": "code",
   "execution_count": 49,
   "metadata": {},
   "outputs": [
    {
     "data": {
      "text/plain": [
       "[0.16168450279976096,\n",
       " 0.1611223982004802,\n",
       " 0.05303350309615366,\n",
       " 0.05276460584205812,\n",
       " 0.05212495641456107,\n",
       " 0.051715163300384226,\n",
       " 0.05179024448894702,\n",
       " 0.05171536350340716,\n",
       " 0.050130880709140443]"
      ]
     },
     "execution_count": 49,
     "metadata": {},
     "output_type": "execute_result"
    }
   ],
   "source": [
    "error"
   ]
  },
  {
   "cell_type": "markdown",
   "metadata": {},
   "source": [
    "### ¿Cómo prevenir el *overfitting* sin importar el orden del modelo?"
   ]
  },
  {
   "cell_type": "markdown",
   "metadata": {},
   "source": [
    "## 3. Regularización\n",
    "\n",
    "Vimos que la solución de mínimos cuadrados es:\n",
    "$$\\boldsymbol{\\beta}^{ls} = \\arg \\min_{\\boldsymbol{\\beta}} \\left|\\left|\\boldsymbol{y}-\\boldsymbol{X}\\boldsymbol{\\beta}\\right|\\right|^2.$$\n",
    "\n",
    "Sin embargo, si crecemos el orden del modelo hay overfitting y algunos coeficientes óptimos $\\boldsymbol{\\beta}$ crecen muchísimo. Que un coeficiente sea muy grande, significa que se le da mucha importancia a alguna característica (que quizá sea ruido... no sirve para predecir).\n",
    "\n",
    "La regularización consiste en penalizar la magnitud de los coeficientes $\\boldsymbol{\\beta}$ en el problema de optimización, para que no crezcan tanto. "
   ]
  },
  {
   "cell_type": "markdown",
   "metadata": {},
   "source": [
    "### 3.1. Ridge\n",
    "\n",
    "$$\\boldsymbol{\\beta}^{ridge} = \\arg \\min_{\\boldsymbol{\\beta}} \\left|\\left|\\boldsymbol{y}-\\boldsymbol{X}\\boldsymbol{\\beta}\\right|\\right|^2 + \\lambda\\left|\\left|\\boldsymbol{\\beta}\\right|\\right|^2$$"
   ]
  },
  {
   "cell_type": "code",
   "execution_count": 50,
   "metadata": {},
   "outputs": [],
   "source": [
    "def min_sq_N(beta, x_points, y_points, N, l):\n",
    "    n = len(x_points)\n",
    "    poli_N = np.array([beta[i]*x_points**i for i in range(N+1)]).sum(axis=0)\n",
    "    return (1/(2*n))*((y_points - poli_N)**2).sum() + l*np.linalg.norm(beta)**2"
   ]
  },
  {
   "cell_type": "code",
   "execution_count": 51,
   "metadata": {},
   "outputs": [],
   "source": [
    "solucion = opt.minimize(fun=min_sq_N, x0=np.zeros(8), args=(x, y,7, 0.0003))\n"
   ]
  },
  {
   "cell_type": "code",
   "execution_count": 52,
   "metadata": {},
   "outputs": [
    {
     "data": {
      "text/plain": [
       "      fun: 0.09452642794777852\n",
       " hess_inv: array([[ 7.87635750e+00, -3.36078601e+01,  2.56339333e+01,\n",
       "         1.50126006e+01, -2.69759260e-01, -7.23205226e+00,\n",
       "        -6.76039907e+00, -1.70615484e+00],\n",
       "       [-3.36078601e+01,  2.39327955e+02, -3.00335173e+02,\n",
       "        -9.24770169e+01,  8.73638753e+01,  1.24210297e+02,\n",
       "         5.52963881e+01, -7.12001802e+01],\n",
       "       [ 2.56339333e+01, -3.00335173e+02,  6.10592918e+02,\n",
       "         2.61450417e+01, -3.47216736e+02, -3.28292090e+02,\n",
       "        -4.74418917e+01,  3.63481582e+02],\n",
       "       [ 1.50126006e+01, -9.24770169e+01,  2.61450417e+01,\n",
       "         9.62743396e+01,  8.46211051e+01,  2.74348531e+01,\n",
       "        -4.88562156e+01, -1.28523697e+02],\n",
       "       [-2.69759260e-01,  8.73638753e+01, -3.47216736e+02,\n",
       "         8.46211051e+01,  3.03997006e+02,  2.30930012e+02,\n",
       "        -2.24284885e+01, -3.59362003e+02],\n",
       "       [-7.23205226e+00,  1.24210297e+02, -3.28292090e+02,\n",
       "         2.74348531e+01,  2.30930012e+02,  1.96633985e+02,\n",
       "         6.17080068e+00, -2.57184034e+02],\n",
       "       [-6.76039907e+00,  5.52963881e+01, -4.74418917e+01,\n",
       "        -4.88562156e+01, -2.24284885e+01,  6.17080068e+00,\n",
       "         3.12887182e+01,  4.90819210e+01],\n",
       "       [-1.70615484e+00, -7.12001802e+01,  3.63481582e+02,\n",
       "        -1.28523697e+02, -3.59362003e+02, -2.57184034e+02,\n",
       "         4.90819210e+01,  4.48246146e+02]])\n",
       "      jac: array([ 3.67779285e-06,  1.34576112e-06, -9.31322575e-08, -5.00120223e-07,\n",
       "       -5.08502126e-07,  2.31899321e-07,  5.47617674e-07, -3.66941094e-07])\n",
       "  message: 'Optimization terminated successfully.'\n",
       "     nfev: 342\n",
       "      nit: 37\n",
       "     njev: 38\n",
       "   status: 0\n",
       "  success: True\n",
       "        x: array([ 0.35003716,  2.47590119, -4.6686992 , -2.93672205, -0.35513707,\n",
       "        1.31759573,  2.06869369,  2.18656876])"
      ]
     },
     "execution_count": 52,
     "metadata": {},
     "output_type": "execute_result"
    }
   ],
   "source": [
    "solucion"
   ]
  },
  {
   "cell_type": "code",
   "execution_count": 54,
   "metadata": {},
   "outputs": [],
   "source": [
    "beta_7_ridge = solucion.x"
   ]
  },
  {
   "cell_type": "code",
   "execution_count": 55,
   "metadata": {},
   "outputs": [],
   "source": [
    "solucion = opt.minimize(fun=min_sq_N, x0=np.zeros(4), args=(x, y,3, 0.0003))\n",
    "beta_3_ridge = solucion.x"
   ]
  },
  {
   "cell_type": "code",
   "execution_count": 56,
   "metadata": {},
   "outputs": [
    {
     "data": {
      "text/plain": [
       "array([ 0.61754661,  0.60941477, -5.61781522,  3.87507902])"
      ]
     },
     "execution_count": 56,
     "metadata": {},
     "output_type": "execute_result"
    }
   ],
   "source": [
    "beta_3_ridge"
   ]
  },
  {
   "cell_type": "code",
   "execution_count": 57,
   "metadata": {},
   "outputs": [
    {
     "data": {
      "image/png": "[encoded data removed]",
      "text/plain": [
       "<Figure size 432x288 with 1 Axes>"
      ]
     },
     "metadata": {
      "needs_background": "light"
     },
     "output_type": "display_data"
    }
   ],
   "source": [
    "# Grafica de los puntos y la recta ajustada\n",
    "plt.figure(figsize=(6,4))\n",
    "plt.plot(x,y,'xr', label='datos')\n",
    "\n",
    "# Modelos obtenidos sin regularización\n",
    "y_fit3 = beta_3[0] + beta_3[1]*x + beta_3[2]*x**2 + beta_3[3]*x**3\n",
    "y_fit7 = beta_7[0] +  beta_7[1]*x + beta_7[2]*x**2 + beta_7[3]*x**3 + beta_7[4]*x**4 + beta_7[5]*x**5 + beta_7[6]*x**6 + beta_7[7]*x**7\n",
    "\n",
    "# Modelos obtenidos con regularización\n",
    "y_fit3_ridge = beta_3_ridge[0] + beta_3_ridge[1]*x + beta_3_ridge[2]*x**2 + beta_3_ridge[3]*x**3\n",
    "y_fit7_ridge = beta_7_ridge[0] +  beta_7_ridge[1]*x + beta_7_ridge[2]*x**2 + beta_7_ridge[3]*x**3 + beta_7_ridge[4]*x**4 + beta_7_ridge[5]*x**5 + beta_7_ridge[6]*x**6 + beta_7_ridge[7]*x**7\n",
    "\n",
    "# Plot de modelos sin regularización\n",
    "# Modelo cúbico\n",
    "plt.plot(x, y_fit3, lw=3, label=f'Polinomio cúbico ajustado: $y=${np.round(beta_3[0],2)} + {np.round(beta_3[1],2)}$x$ + {np.round(beta_3[2],2)}$x^2$ + {np.round(beta_3[3],2)}$x^3$')\n",
    "# Modelo polinomial de grado 7\n",
    "plt.plot(x, y_fit7, lw=3, label=f'Polinomio de grado 7 ajustado: $y=${np.round(beta_7[0],2)} + {np.round(beta_7[1],2)}$x$ + {np.round(beta_7[2],2)}$x^2$ + {np.round(beta_7[3],2)}$x^3$ + {np.round(beta_7[4],2)}$x^4$ + {np.round(beta_7[5],2)}$x^5$ + {np.round(beta_7[6],2)}$x^6$ + {np.round(beta_7[7],2)}$x^7$')\n",
    "\n",
    "\n",
    "# Plot de modelos con regularización\n",
    "plt.plot(x, y_fit3_ridge, lw=3, label=f'Polinomio cúbico regularizado ajustado: $y=${np.round(beta_3_ridge[0],2)} + {np.round(beta_3_ridge[1],2)}$x$ + {np.round(beta_3_ridge[2],2)}$x^2$ + {np.round(beta_3_ridge[3],2)}$x^3$')\n",
    "# Modelo polinomial de grado 7\n",
    "plt.plot(x, y_fit7_ridge, lw=3, label=f'Polinomio regularizado de grado 7 ajustado: $y=${np.round(beta_7_ridge[0],2)} + {np.round(beta_7_ridge[1],2)}$x$ + {np.round(beta_7_ridge[2],2)}$x^2$ + {np.round(beta_7_ridge[3],2)}$x^3$ + {np.round(beta_7_ridge[4],2)}$x^4$ + {np.round(beta_7_ridge[5],2)}$x^5$ + {np.round(beta_7_ridge[6],2)}$x^6$ + {np.round(beta_7_ridge[7],2)}$x^7$')\n",
    "\n",
    "\n",
    "plt.xlabel('x')\n",
    "plt.ylabel('y')\n",
    "plt.legend(bbox_to_anchor=(1.05,1),loc='upper left')\n",
    "plt.grid()"
   ]
  },
  {
   "cell_type": "code",
   "execution_count": null,
   "metadata": {},
   "outputs": [],
   "source": []
  },
  {
   "cell_type": "code",
   "execution_count": null,
   "metadata": {},
   "outputs": [],
   "source": []
  },
  {
   "cell_type": "markdown",
   "metadata": {},
   "source": [
    "### 3.2. Lasso\n",
    "\n",
    "$$\\boldsymbol{\\beta}^{lasso} = \\arg \\min_{\\boldsymbol{\\beta}} \\left|\\left|\\boldsymbol{y}-\\boldsymbol{X}\\boldsymbol{\\beta}\\right|\\right|^2 + \\lambda\\left|\\left|\\boldsymbol{\\beta}\\right|\\right|_1$$\n",
    "\n",
    "La norma 1 no es más que la suma de los valores absolutos de las componentes $\\left|\\left|\\boldsymbol{\\beta}\\right|\\right|_1=\\sum_{j=0}^m\\left|\\beta_j\\right|$."
   ]
  },
  {
   "cell_type": "code",
   "execution_count": null,
   "metadata": {},
   "outputs": [],
   "source": [
    "def min_sq_N_lasso(beta, x_points, y_points, N, l):\n",
    "    n = len(x_points)\n",
    "    poli_N = np.array([beta[i]*x_points**i for i in range(N+1)]).sum(axis=0)\n",
    "    return (1/(2*n))*((y_points - poli_N)**2).sum() + l*"
   ]
  },
  {
   "cell_type": "code",
   "execution_count": null,
   "metadata": {},
   "outputs": [],
   "source": []
  },
  {
   "cell_type": "code",
   "execution_count": null,
   "metadata": {},
   "outputs": [],
   "source": []
  },
  {
   "cell_type": "code",
   "execution_count": null,
   "metadata": {},
   "outputs": [],
   "source": []
  },
  {
   "cell_type": "markdown",
   "metadata": {},
   "source": [
    "## 4. Ajuste robusto\n",
    "\n",
    "Ahora, consideremos de nuevo el caso de la línea recta con un par de puntos atípicos al inicio y al final..."
   ]
  },
  {
   "cell_type": "code",
   "execution_count": 58,
   "metadata": {},
   "outputs": [],
   "source": [
    "N=20\n",
    "x=np.linspace(0,10,N)\n",
    "y = 10 + 2*x + np.random.normal(loc=0, scale=2, size=(N,))\n",
    "y[0] =30\n",
    "y[-1] = 10"
   ]
  },
  {
   "cell_type": "code",
   "execution_count": 64,
   "metadata": {},
   "outputs": [
    {
     "data": {
      "image/png": "[encoded data removed]",
      "text/plain": [
       "<Figure size 432x288 with 1 Axes>"
      ]
     },
     "metadata": {
      "needs_background": "light"
     },
     "output_type": "display_data"
    }
   ],
   "source": [
    "plt.figure(figsize=(6,4))\n",
    "plt.plot(x,y, 'xr', label='datos')\n",
    "#Modelo lineal\n",
    "\n",
    "plt.xlabel('$x$')\n",
    "plt.ylabel('$y$')\n",
    "plt.legend(loc='upper left', bbox_to_anchor=(1.05,1))\n",
    "plt.grid()"
   ]
  },
  {
   "cell_type": "markdown",
   "metadata": {},
   "source": [
    "Solucionamos el problema normalmente..."
   ]
  },
  {
   "cell_type": "code",
   "execution_count": 61,
   "metadata": {},
   "outputs": [],
   "source": [
    "solucion = opt.minimize(fun = min_sq_1, x0=np.zeros(2), args=(x,y))\n",
    "beta = solucion.x"
   ]
  },
  {
   "cell_type": "code",
   "execution_count": 62,
   "metadata": {},
   "outputs": [
    {
     "data": {
      "text/plain": [
       "array([15.42188335,  0.81238144])"
      ]
     },
     "execution_count": 62,
     "metadata": {},
     "output_type": "execute_result"
    }
   ],
   "source": [
    "beta"
   ]
  },
  {
   "cell_type": "code",
   "execution_count": 65,
   "metadata": {},
   "outputs": [
    {
     "data": {
      "image/png": "[encoded data removed]",
      "text/plain": [
       "<Figure size 432x288 with 1 Axes>"
      ]
     },
     "metadata": {
      "needs_background": "light"
     },
     "output_type": "display_data"
    }
   ],
   "source": [
    "plt.figure(figsize=(6,4))\n",
    "plt.plot(x,y, 'xr', label='datos')\n",
    "\n",
    "y_fit = beta[0] + beta[1]*x\n",
    "plt.plot(x, y_fit, 'b', lw=3, label=f'Recta ajustada: $y=${np.round(beta[0],2) + np.round(beta[1],2)}$x$')\n",
    "\n",
    "\n",
    "plt.xlabel('$x$')\n",
    "plt.ylabel('$y$')\n",
    "plt.legend(loc='upper left', bbox_to_anchor=(1.05,1))\n",
    "plt.grid()"
   ]
  },
  {
   "cell_type": "code",
   "execution_count": null,
   "metadata": {},
   "outputs": [],
   "source": []
  },
  {
   "cell_type": "markdown",
   "metadata": {},
   "source": [
    "Si estos puntos que parecen ser atípicos, hacen parte de una 'mala medición', vemos que el ajuste que obtenemos a los otros puntos es muy pobre...\n",
    "\n",
    "**¿Cómo podemos evitar esto?** La respuesta es [*ajuste robusto*](https://en.wikipedia.org/wiki/Huber_loss)."
   ]
  },
  {
   "cell_type": "code",
   "execution_count": 66,
   "metadata": {
    "scrolled": false
   },
   "outputs": [],
   "source": [
    "def huber(a,d):\n",
    "    if np.abs(a)<= d:\n",
    "        return a**2\n",
    "    else: \n",
    "        return d*(2*abs(a) - d)\n"
   ]
  },
  {
   "cell_type": "code",
   "execution_count": 67,
   "metadata": {},
   "outputs": [],
   "source": [
    "def min_sq_rob(beta, x_points, y_points):\n",
    "    n=len(x_points)\n",
    "    recta = beta[0] + beta[1]*x_points\n",
    "    \n",
    "    return (1/(2*n))*(np.vectorize(huber)(y_points - recta,5)).sum()\n"
   ]
  },
  {
   "cell_type": "code",
   "execution_count": 70,
   "metadata": {},
   "outputs": [
    {
     "data": {
      "text/plain": [
       "      fun: 8.787973492569582\n",
       " hess_inv: array([[ 4.95410305, -0.76875634],\n",
       "       [-0.76875634,  0.15378592]])\n",
       "      jac: array([ 0.00000000e+00, -1.90734863e-06])\n",
       "  message: 'Optimization terminated successfully.'\n",
       "     nfev: 30\n",
       "      nit: 9\n",
       "     njev: 10\n",
       "   status: 0\n",
       "  success: True\n",
       "        x: array([11.98852235,  1.48758228])"
      ]
     },
     "execution_count": 70,
     "metadata": {},
     "output_type": "execute_result"
    }
   ],
   "source": [
    "solucion = opt.minimize(fun=min_sq_rob, x0=np.zeros(2), args=(x,y))\n",
    "solucion"
   ]
  },
  {
   "cell_type": "code",
   "execution_count": 71,
   "metadata": {},
   "outputs": [],
   "source": [
    "beta_rob = solucion.x"
   ]
  },
  {
   "cell_type": "code",
   "execution_count": 73,
   "metadata": {},
   "outputs": [
    {
     "data": {
      "image/png": "[encoded data removed]",
      "text/plain": [
       "<Figure size 432x288 with 1 Axes>"
      ]
     },
     "metadata": {
      "needs_background": "light"
     },
     "output_type": "display_data"
    }
   ],
   "source": [
    "plt.figure(figsize=(6,4))\n",
    "plt.plot(x,y, 'xr', label='datos')\n",
    "\n",
    "y_fit = beta[0] + beta[1]*x\n",
    "y_fit_rob = beta_rob[0] + beta_rob[1]*x\n",
    "\n",
    "plt.plot(x, y_fit, 'b', lw=3, label=f'Recta ajustada: $y=${np.round(beta[0],2) + np.round(beta[1],2)}$x$')\n",
    "plt.plot(x, y_fit_rob, 'g', lw=3, label=f'Recta ajustada robusta: $y=${np.round(beta_rob[0],2) + np.round(beta_rob[1],2)}$x$')\n",
    "\n",
    "\n",
    "plt.xlabel('$x$')\n",
    "plt.ylabel('$y$')\n",
    "plt.legend(loc='upper left', bbox_to_anchor=(1.05,1))\n",
    "plt.grid()"
   ]
  },
  {
   "cell_type": "code",
   "execution_count": null,
   "metadata": {},
   "outputs": [],
   "source": []
  },
  {
   "cell_type": "markdown",
   "metadata": {},
   "source": [
    "Mejor..."
   ]
  },
  {
   "cell_type": "markdown",
   "metadata": {},
   "source": [
    "## 5. Actividad\n",
    "\n",
    "La siguiente celda lee datos correspondientes a tamaños $x$ ($ft^2$) y precios $y$ (USD) de casas en Portland, Oregon.\n",
    "\n",
    "1. Graficar estos datos poniendo los precios en el eje $y$ y los tamaños en el eje $x$.\n",
    "2. Ajustar polinomios de grado 1 hasta grado 5.\n",
    "3. Graficar el error cuadrático acumulado contra el número de términos, y elegir un polinomio que ajuste bien y su grado sea el menor posible.\n",
    "4. Supongamos que un amigo tuyo tiene una casa de $1250 ft^2$. Según tu modelo, ¿en cuánto podría vender dicha casa?\n",
    "\n",
    "Abrir un nuevo notebook, llamado `Tarea3_ApellidoNombre` y subirlo a canvas en el espacio habilitado."
   ]
  },
  {
   "cell_type": "code",
   "execution_count": 74,
   "metadata": {},
   "outputs": [],
   "source": [
    "import pandas as pd\n",
    "data = pd.read_csv('housing_prices.csv')\n"
   ]
  },
  {
   "cell_type": "code",
   "execution_count": 79,
   "metadata": {},
   "outputs": [
    {
     "data": {
      "text/html": [
       "<div>\n",
       "<style scoped>\n",
       "    .dataframe tbody tr th:only-of-type {\n",
       "        vertical-align: middle;\n",
       "    }\n",
       "\n",
       "    .dataframe tbody tr th {\n",
       "        vertical-align: top;\n",
       "    }\n",
       "\n",
       "    .dataframe thead th {\n",
       "        text-align: right;\n",
       "    }\n",
       "</style>\n",
       "<table border=\"1\" class=\"dataframe\">\n",
       "  <thead>\n",
       "    <tr style=\"text-align: right;\">\n",
       "      <th></th>\n",
       "      <th>size</th>\n",
       "      <th>n_bedrooms</th>\n",
       "      <th>price</th>\n",
       "    </tr>\n",
       "  </thead>\n",
       "  <tbody>\n",
       "    <tr>\n",
       "      <th>0</th>\n",
       "      <td>2104</td>\n",
       "      <td>3</td>\n",
       "      <td>399900</td>\n",
       "    </tr>\n",
       "    <tr>\n",
       "      <th>1</th>\n",
       "      <td>1600</td>\n",
       "      <td>3</td>\n",
       "      <td>329900</td>\n",
       "    </tr>\n",
       "    <tr>\n",
       "      <th>2</th>\n",
       "      <td>2400</td>\n",
       "      <td>3</td>\n",
       "      <td>369000</td>\n",
       "    </tr>\n",
       "    <tr>\n",
       "      <th>3</th>\n",
       "      <td>1416</td>\n",
       "      <td>2</td>\n",
       "      <td>232000</td>\n",
       "    </tr>\n",
       "    <tr>\n",
       "      <th>4</th>\n",
       "      <td>3000</td>\n",
       "      <td>4</td>\n",
       "      <td>539900</td>\n",
       "    </tr>\n",
       "  </tbody>\n",
       "</table>\n",
       "</div>"
      ],
      "text/plain": [
       "   size  n_bedrooms   price\n",
       "0  2104           3  399900\n",
       "1  1600           3  329900\n",
       "2  2400           3  369000\n",
       "3  1416           2  232000\n",
       "4  3000           4  539900"
      ]
     },
     "execution_count": 79,
     "metadata": {},
     "output_type": "execute_result"
    }
   ],
   "source": [
    "data.head()"
   ]
  },
  {
   "cell_type": "code",
   "execution_count": 76,
   "metadata": {},
   "outputs": [],
   "source": [
    "x = data['size'].values\n",
    "y = data['price'].values"
   ]
  },
  {
   "cell_type": "code",
   "execution_count": 77,
   "metadata": {},
   "outputs": [
    {
     "data": {
      "text/plain": [
       "array([2104, 1600, 2400, 1416, 3000, 1985, 1534, 1427, 1380, 1494, 1940,\n",
       "       2000, 1890, 4478, 1268, 2300, 1320, 1236, 2609, 3031, 1767, 1888,\n",
       "       1604, 1962, 3890, 1100, 1458, 2526, 2200, 2637, 1839, 1000, 2040,\n",
       "       3137, 1811, 1437, 1239, 2132, 4215, 2162, 1664, 2238, 2567, 1200,\n",
       "        852, 1852, 1203])"
      ]
     },
     "execution_count": 77,
     "metadata": {},
     "output_type": "execute_result"
    }
   ],
   "source": [
    "x"
   ]
  },
  {
   "cell_type": "code",
   "execution_count": 78,
   "metadata": {},
   "outputs": [
    {
     "data": {
      "text/plain": [
       "array([399900, 329900, 369000, 232000, 539900, 299900, 314900, 198999,\n",
       "       212000, 242500, 239999, 347000, 329999, 699900, 259900, 449900,\n",
       "       299900, 199900, 499998, 599000, 252900, 255000, 242900, 259900,\n",
       "       573900, 249900, 464500, 469000, 475000, 299900, 349900, 169900,\n",
       "       314900, 579900, 285900, 249900, 229900, 345000, 549000, 287000,\n",
       "       368500, 329900, 314000, 299000, 179900, 299900, 239500])"
      ]
     },
     "execution_count": 78,
     "metadata": {},
     "output_type": "execute_result"
    }
   ],
   "source": [
    "y"
   ]
  },
  {
   "cell_type": "markdown",
   "metadata": {},
   "source": [
    "# Avisos:\n",
    "\n",
    "## Proyecto:\n",
    "### 1. Elegir integrantes para proyecto. Mínimo 2, máximo 3 (sin excepción). Algún integrante del equipo me deberá mandar un mensaje por MSTeams con los nombres de los integrantes.\n",
    "### 2. Deben elegir un tema para proyecto que se pueda resolver como un problema de optimización (preferiblemente, relacionado con su carrera). \n",
    "### 3. Para este próximo jueves, a más tardar, deben acercarse a mi con su tema de proyecto. Juntos, definiremos el alncance.\n",
    "### 4. Fecha de entrega y presentación: por definir"
   ]
  }
 ],
 "metadata": {
  "kernelspec": {
   "display_name": "Python 3",
   "language": "python",
   "name": "python3"
  },
  "language_info": {
   "codemirror_mode": {
    "name": "ipython",
    "version": 3
   },
   "file_extension": ".py",
   "mimetype": "text/x-python",
   "name": "python",
   "nbconvert_exporter": "python",
   "pygments_lexer": "ipython3",
   "version": "3.8.8"
  }
 },
 "nbformat": 4,
 "nbformat_minor": 2
}
